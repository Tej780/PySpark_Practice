{
 "cells": [
  {
   "cell_type": "code",
   "execution_count": 4,
   "metadata": {},
   "outputs": [
    {
     "name": "stderr",
     "output_type": "stream",
     "text": [
      "Using TensorFlow backend.\n"
     ]
    }
   ],
   "source": [
    "from keras.applications import resnet50\n",
    "from keras import Sequential\n",
    "from keras.layers import Dense\n",
    "from PIL import Image\n",
    "import glob\n",
    "import numpy as np\n",
    "import pyspark"
   ]
  },
  {
   "cell_type": "code",
   "execution_count": 5,
   "metadata": {},
   "outputs": [],
   "source": [
    "def import_data(filepath, num_files=None):\n",
    "    image_list = []\n",
    "    age_list = []\n",
    "    i=0\n",
    "    for filename in glob.glob(filepath+'/*.jpg'):\n",
    "        age = filename.split('_')[0].split('/')[-1]\n",
    "        age_list.append(age)\n",
    "        im = Image.open(filename)\n",
    "        pixels = list(im.getdata())\n",
    "        width, height = im.size\n",
    "        pixels = np.array(pixels).reshape((width, height, 3))\n",
    "        image_list.append(pixels)\n",
    "        if i == num_files:\n",
    "            break\n",
    "        i+=1\n",
    "    return image_list,age_list"
   ]
  },
  {
   "cell_type": "code",
   "execution_count": 8,
   "metadata": {},
   "outputs": [],
   "source": [
    "filepath = r\"./UTKFace\"\n",
    "images,ages = import_data(filepath,100)"
   ]
  },
  {
   "cell_type": "code",
   "execution_count": null,
   "metadata": {},
   "outputs": [],
   "source": []
  }
 ],
 "metadata": {
  "kernelspec": {
   "display_name": "Python 3",
   "language": "python",
   "name": "python3"
  },
  "language_info": {
   "codemirror_mode": {
    "name": "ipython",
    "version": 3
   },
   "file_extension": ".py",
   "mimetype": "text/x-python",
   "name": "python",
   "nbconvert_exporter": "python",
   "pygments_lexer": "ipython3",
   "version": "3.6.7"
  }
 },
 "nbformat": 4,
 "nbformat_minor": 1
}
